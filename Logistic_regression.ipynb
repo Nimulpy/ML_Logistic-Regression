{
  "cells": [
    {
      "cell_type": "markdown",
      "source": [
        "Mid-Term Assignment Submission 2023\n",
        "\n",
        "> **Submitted By:** Nimul Islam Emon\n",
        "\n",
        "> **Student ID:** 0422062146\n",
        "\n"
      ],
      "metadata": {
        "id": "S_2YMI3Ew3ln"
      }
    },
    {
      "cell_type": "markdown",
      "metadata": {
        "id": "ysd-Cu40CTGI"
      },
      "source": [
        "### Loading of Data"
      ]
    },
    {
      "cell_type": "code",
      "execution_count": null,
      "metadata": {
        "id": "3JTIXpzpCTGL"
      },
      "outputs": [],
      "source": [
        "import numpy as np\n",
        "import matplotlib.pyplot as plt\n",
        "import random\n",
        "import h5py\n",
        "from sklearn.model_selection import train_test_split"
      ]
    },
    {
      "cell_type": "code",
      "source": [
        "def load_dataset():\n",
        "    train_dataset = h5py.File('/content/drive/MyDrive/Dataset 2/train_happy (1).h5', \"r\")\n",
        "    test_dataset = h5py.File('/content/drive/MyDrive/Dataset 2/test_happy (1).h5', \"r\")\n",
        "\n",
        "    train_set_x_orig = np.array(train_dataset[\"train_set_x\"][:])\n",
        "    train_set_y_orig = np.array(train_dataset[\"train_set_y\"][:])\n",
        "    test_set_x_orig = np.array(test_dataset[\"test_set_x\"][:])\n",
        "    test_set_y_orig = np.array(test_dataset[\"test_set_y\"][:])\n",
        "    classes = np.array(test_dataset[\"list_classes\"][:])\n",
        "    train_set_y_orig = train_set_y_orig.reshape((1, train_set_y_orig.shape[0]))\n",
        "    test_set_y_orig = test_set_y_orig.reshape((1, test_set_y_orig.shape[0]))\n",
        "    return train_set_x_orig, train_set_y_orig, test_set_x_orig, test_set_y_orig, classes\n",
        "train_set_x_orig, train_set_y_orig, test_set_x_orig, test_set_y_orig, classes=load_dataset()\n",
        "\n",
        "#%% Splitting the Train Set\n",
        "train_set_y_orig = train_set_y_orig.transpose()\n",
        "X_train, X_validation, y_train, y_validation = train_test_split(train_set_x_orig, train_set_y_orig, test_size=0.20)"
      ],
      "metadata": {
        "id": "jSbYRbGW0pgU"
      },
      "execution_count": null,
      "outputs": []
    },
    {
      "cell_type": "code",
      "source": [
        "from google.colab import drive\n",
        "drive.mount('/content/drive')"
      ],
      "metadata": {
        "colab": {
          "base_uri": "https://localhost:8080/"
        },
        "id": "yILwe9x-D_0A",
        "outputId": "547ba7c1-c730-4275-df67-76a4b49ad873"
      },
      "execution_count": null,
      "outputs": [
        {
          "output_type": "stream",
          "name": "stdout",
          "text": [
            "Mounted at /content/drive\n"
          ]
        }
      ]
    },
    {
      "cell_type": "code",
      "source": [
        "train_set_x_orig, train_set_y_orig, test_set_x_orig, test_set_y_orig, classes=load_dataset()"
      ],
      "metadata": {
        "id": "WwPE2kmV0sTz"
      },
      "execution_count": null,
      "outputs": []
    },
    {
      "cell_type": "code",
      "source": [
        "X_train = np.reshape(train_set_x_orig, (train_set_x_orig.shape[0], -1))\n",
        "Y_train=train_set_y_orig\n",
        "X_test = np.reshape(test_set_x_orig, (test_set_x_orig.shape[0], -1))\n",
        "Y_test=test_set_y_orig\n",
        "print(X_train.shape, Y_train.shape, X_test.shape, Y_test.shape)"
      ],
      "metadata": {
        "colab": {
          "base_uri": "https://localhost:8080/"
        },
        "id": "Apbg3Aq21K5E",
        "outputId": "91738942-f97c-49dd-ac35-7c0a056930d1"
      },
      "execution_count": null,
      "outputs": [
        {
          "output_type": "stream",
          "name": "stdout",
          "text": [
            "(600, 12288) (600,) (150, 12288) (150,)\n"
          ]
        }
      ]
    },
    {
      "cell_type": "markdown",
      "metadata": {
        "id": "cK-eMpQWCTGh"
      },
      "source": [
        "### Plotting of Data"
      ]
    },
    {
      "cell_type": "code",
      "execution_count": null,
      "metadata": {
        "colab": {
          "base_uri": "https://localhost:8080/",
          "height": 264
        },
        "id": "z7iCNhHNCTGk",
        "outputId": "1ebb1919-b081-46ca-8cb8-de97a44a3f22"
      },
      "outputs": [
        {
          "output_type": "display_data",
          "data": {
            "text/plain": [
              "<Figure size 432x288 with 24 Axes>"
            ],
            "image/png": "[encoded data removed]"
          },
          "metadata": {
            "needs_background": "light"
          }
        }
      ],
      "source": [
        "num_classes = len(classes)\n",
        "samples_per_class = 12\n",
        "for y, cls in enumerate(classes):\n",
        "    idxs = np.flatnonzero(train_set_y_orig == y)\n",
        "    idxs = np.random.choice(idxs, samples_per_class, replace=False)\n",
        "    for i, idx in enumerate(idxs):\n",
        "        plt_idx = i * num_classes + y + 1\n",
        "        plt.subplot(samples_per_class, num_classes, plt_idx)\n",
        "        plt.imshow(train_set_x_orig[idx].astype('uint8'))\n",
        "        plt.axis('off')\n",
        "        if i == 0:\n",
        "            plt.title(cls)\n",
        "plt.show()"
      ]
    },
    {
      "cell_type": "markdown",
      "source": [
        "12 samples from the training dataset were plotted."
      ],
      "metadata": {
        "id": "9E6c0OC-9eAb"
      }
    },
    {
      "cell_type": "markdown",
      "source": [
        " Logistic regression algorithm"
      ],
      "metadata": {
        "id": "cTxP28bTUDd2"
      }
    },
    {
      "cell_type": "markdown",
      "metadata": {
        "id": "57yGjyLnCTGs"
      },
      "source": [
        "### Sigmoid function as the activation function\n",
        "\n",
        "$ g(z) = \\frac{1}{(1+e^{-z})}$"
      ]
    },
    {
      "cell_type": "code",
      "execution_count": null,
      "metadata": {
        "id": "Hq32-0Q0CTGx"
      },
      "outputs": [],
      "source": [
        "def sigmoid(z):\n",
        "    \"\"\"\n",
        "    return the sigmoid of z\n",
        "    \"\"\"\n",
        "\n",
        "    return 1/ (1 + np.exp(-z))"
      ]
    },
    {
      "cell_type": "markdown",
      "metadata": {
        "id": "SGrmWzIBCTG2"
      },
      "source": [
        "## Calculation of Cost Function and Gradient\n",
        "Here x(i) is the input and y(i) is the target.\n",
        "\n",
        "$J(\\Theta) = \\frac{1}{m} \\sum_{i=1}^{m} [ -y^{(i)}log(h_{\\Theta}(x^{(i)})) - (1 - y^{(i)})log(1 - (h_{\\Theta}(x^{(i)}))]$\n",
        "\n",
        "$ \\frac{\\partial J(\\Theta)}{\\partial \\Theta_j} = \\frac{1}{m} \\sum_{i=1}^{m} (h_{\\Theta}(x^{(i)}) - y^{(i)})x_j^{(i)}$"
      ]
    },
    {
      "cell_type": "code",
      "execution_count": null,
      "metadata": {
        "id": "8gu0B0zvCTG4"
      },
      "outputs": [],
      "source": [
        "def costFunction(theta, X, y):\n",
        "    \"\"\"\n",
        "    Takes in numpy array theta, x and y and return the logistic regression cost function and gradient\n",
        "    \"\"\"\n",
        "\n",
        "    m=len(y)\n",
        "\n",
        "    predictions = sigmoid(np.dot(X,theta))\n",
        "    error = (-y * np.log(predictions)) - ((1-y)*np.log(1-predictions))\n",
        "\n",
        "    cost = 1/m * sum(error)\n",
        "\n",
        "    grad = 1/m * np.dot(X.transpose(),(predictions - y))\n",
        "\n",
        "    return cost[0] , grad"
      ]
    },
    {
      "cell_type": "markdown",
      "metadata": {
        "id": "wNxrbkoRCTG7"
      },
      "source": [
        "### Feature scaling od the Data\n",
        "A numpy array of X values are taken and  normalize X values are returned.IT normalizes the range of independent variables or features of data.\n",
        "\n",
        "  "
      ]
    },
    {
      "cell_type": "code",
      "execution_count": null,
      "metadata": {
        "id": "g0q92nutCTG9"
      },
      "outputs": [],
      "source": [
        "def featureNormalization(X):\n",
        "\n",
        "    mean=np.mean(X,axis=0)\n",
        "    std=np.std(X,axis=0)\n",
        "\n",
        "    X_norm = (X - mean)/std\n",
        "\n",
        "    return X_norm , mean , std"
      ]
    },
    {
      "cell_type": "code",
      "source": [
        "X=X_train\n",
        "y=Y_train"
      ],
      "metadata": {
        "id": "2O-VFtOn1Uhk"
      },
      "execution_count": null,
      "outputs": []
    },
    {
      "cell_type": "code",
      "execution_count": null,
      "metadata": {
        "colab": {
          "base_uri": "https://localhost:8080/"
        },
        "id": "f3AfWgD-CTG-",
        "outputId": "6c8fa986-d5da-45d1-8184-60754259c158"
      },
      "outputs": [
        {
          "output_type": "stream",
          "name": "stdout",
          "text": [
            "Cost of initial theta is 0.693147180559947\n",
            "Gradient at initial theta (zeros): [[0.        ]\n",
            " [0.03011658]\n",
            " [0.05251867]\n",
            " ...\n",
            " [0.02634625]\n",
            " [0.05375885]\n",
            " [0.05238771]]\n"
          ]
        }
      ],
      "source": [
        "m , n = X.shape[0], X.shape[1]\n",
        "X, X_mean, X_std = featureNormalization(X)\n",
        "X= np.append(np.ones((m,1)),X,axis=1)\n",
        "y=y.reshape(m,1)\n",
        "initial_theta = np.zeros((n+1,1))\n",
        "cost, grad= costFunction(initial_theta,X,y)\n",
        "print(\"Cost of initial theta is\",cost)\n",
        "print(\"Gradient at initial theta (zeros):\",grad)"
      ]
    },
    {
      "cell_type": "code",
      "source": [
        "print(X.shape,y.shape)"
      ],
      "metadata": {
        "colab": {
          "base_uri": "https://localhost:8080/"
        },
        "id": "5CMpEcZ0OPdf",
        "outputId": "6dba73e6-5de2-48bb-eab8-5672aaa7563d"
      },
      "execution_count": null,
      "outputs": [
        {
          "output_type": "stream",
          "name": "stdout",
          "text": [
            "(600, 12289) (600, 1)\n"
          ]
        }
      ]
    },
    {
      "cell_type": "markdown",
      "metadata": {
        "id": "7sM6Vw4PCTHB"
      },
      "source": [
        "### Gradient Descent\n",
        "The model is trained by Gradient descent optimization algorithm.This Training data these models learn over time, and the cost function within gradient descent specifically acts as a barometer, gauging its accuracy with each iteration of parameter updates. A for loop is used to run this process until this function is close of equal to zero."
      ]
    },
    {
      "cell_type": "code",
      "execution_count": null,
      "metadata": {
        "id": "jdQ9590KCTHD"
      },
      "outputs": [],
      "source": [
        "def gradientDescent(X,y,theta,alpha,num_iters):\n",
        "\n",
        "\n",
        "    m=len(y)\n",
        "    J_history =[]\n",
        "\n",
        "    for i in range(num_iters):\n",
        "        cost, grad = costFunction(theta,X,y)\n",
        "        theta = theta - (alpha * grad)\n",
        "        J_history.append(cost)\n",
        "\n",
        "    return theta , J_history"
      ]
    },
    {
      "cell_type": "code",
      "execution_count": null,
      "metadata": {
        "id": "ShSWMa3GCTHF"
      },
      "outputs": [],
      "source": [
        "theta , J_history = gradientDescent(X,y,initial_theta,0.01,50)"
      ]
    },
    {
      "cell_type": "code",
      "execution_count": null,
      "metadata": {
        "colab": {
          "base_uri": "https://localhost:8080/"
        },
        "id": "2UFlEmp1CTHG",
        "outputId": "be2a87e1-903a-49c9-834c-81ea2cdf5125"
      },
      "outputs": [
        {
          "output_type": "stream",
          "name": "stdout",
          "text": [
            "Theta optimized by gradient descent: [[ 0.00540029]\n",
            " [ 0.00279607]\n",
            " [ 0.00264078]\n",
            " ...\n",
            " [ 0.00025688]\n",
            " [-0.00188327]\n",
            " [-0.00086842]]\n",
            "The cost of the optimized theta: 0.07940604691084929\n"
          ]
        }
      ],
      "source": [
        "print(\"Theta optimized by gradient descent:\",theta)\n",
        "print(\"The cost of the optimized theta:\",J_history[-1])"
      ]
    },
    {
      "cell_type": "markdown",
      "metadata": {
        "id": "ElXjjY3zCTHK"
      },
      "source": [
        "### Plotting of Cost Function"
      ]
    },
    {
      "cell_type": "code",
      "execution_count": null,
      "metadata": {
        "colab": {
          "base_uri": "https://localhost:8080/",
          "height": 312
        },
        "id": "rxfDTdRtCTHL",
        "outputId": "7d7b7aac-382d-4114-b016-dd756799c02d"
      },
      "outputs": [
        {
          "output_type": "execute_result",
          "data": {
            "text/plain": [
              "Text(0.5, 1.0, 'Gradiant Descent optimization of Loss or Cost function')"
            ]
          },
          "metadata": {},
          "execution_count": 19
        },
        {
          "output_type": "display_data",
          "data": {
            "text/plain": [
              "<Figure size 432x288 with 1 Axes>"
            ],
            "image/png": "[encoded data removed]"
          },
          "metadata": {
            "needs_background": "light"
          }
        }
      ],
      "source": [
        "plt.plot(J_history)\n",
        "plt.xlabel(\"Iteration\")\n",
        "plt.ylabel(\"$J(\\Theta)$\")\n",
        "plt.title(\"Gradiant Descent optimization of Loss or Cost function\")"
      ]
    },
    {
      "cell_type": "markdown",
      "source": [
        "The Avobe graph indicates the decrease of loss with incresing itarartions."
      ],
      "metadata": {
        "id": "5PFL54Jz-bWQ"
      }
    },
    {
      "cell_type": "markdown",
      "metadata": {
        "id": "u8R1iJfDCTHR"
      },
      "source": [
        "### Prediction"
      ]
    },
    {
      "cell_type": "code",
      "execution_count": null,
      "metadata": {
        "id": "1akvvD6KCTHR"
      },
      "outputs": [],
      "source": [
        "def predict(theta, x_new , threshold):\n",
        "    result = x_new.dot(theta)\n",
        "    result = result >= threshold\n",
        "    y_pred = np.zeros(result.shape[0])\n",
        "    y_pred = np.reshape(y_pred, (y_pred.shape[0], 1))\n",
        "    for i in range(len(y_pred)):\n",
        "        if result[i] == True:\n",
        "            y_pred[i,:] = 1\n",
        "        else:\n",
        "            continue\n",
        "\n",
        "    return y_pred\n",
        ""
      ]
    },
    {
      "cell_type": "markdown",
      "metadata": {
        "id": "LOdBESVvCTHU"
      },
      "source": [
        "### Accuracy on training set"
      ]
    },
    {
      "cell_type": "code",
      "source": [
        "def accuracy_calc(y_pred,y_pred_sk, y_test):\n",
        "    count = 0\n",
        "    correctly_classified = 0\n",
        "    correctly_classified1 = 0\n",
        "\n",
        "    for count in range( np.size( y_pred ) ) :\n",
        "        if y_test[count] == y_pred[count] :\n",
        "            correctly_classified = correctly_classified + 1\n",
        "\n",
        "        if y_test[count] == y_pred_sk[count] :\n",
        "            correctly_classified1 = correctly_classified1 + 1\n",
        "\n",
        "        count = count + 1\n",
        "\n",
        "    accuracy=(correctly_classified / count ) * 100\n",
        "    accuracy_sk=(correctly_classified1 / count) * 100\n",
        "\n",
        "    return accuracy,accuracy_sk"
      ],
      "metadata": {
        "id": "7TuldMovCZOf"
      },
      "execution_count": null,
      "outputs": []
    },
    {
      "cell_type": "markdown",
      "source": [
        "##Prediction from the dataset\n",
        "y_pred[7] yeilds the value 0 ,So it is not a smilely face image.\n",
        "\n"
      ],
      "metadata": {
        "id": "azK57E4zza2A"
      }
    },
    {
      "cell_type": "code",
      "execution_count": null,
      "metadata": {
        "id": "bkCWpmkxCTHV",
        "colab": {
          "base_uri": "https://localhost:8080/"
        },
        "outputId": "d522363e-4695-430d-9f37-aaaa859fa9c1"
      },
      "outputs": [
        {
          "output_type": "stream",
          "name": "stdout",
          "text": [
            "Predicted Value): [0.]\n"
          ]
        }
      ],
      "source": [
        "y_pred = predict(theta,X,0.5)\n",
        "print(\"Predicted Value):\",y_pred[7])"
      ]
    },
    {
      "cell_type": "code",
      "source": [
        "from sklearn.linear_model import LogisticRegression\n",
        "model_sk = LogisticRegression()\n",
        "model_sk.fit( X_train, Y_train)\n",
        "y_pred_sk = model_sk.predict( X_train )"
      ],
      "metadata": {
        "colab": {
          "base_uri": "https://localhost:8080/"
        },
        "id": "0vtONF0F7F48",
        "outputId": "d4d604d4-24ed-4210-ab88-e04cbffcf857"
      },
      "execution_count": null,
      "outputs": [
        {
          "output_type": "stream",
          "name": "stderr",
          "text": [
            "/usr/local/lib/python3.8/dist-packages/sklearn/linear_model/_logistic.py:814: ConvergenceWarning: lbfgs failed to converge (status=1):\n",
            "STOP: TOTAL NO. of ITERATIONS REACHED LIMIT.\n",
            "\n",
            "Increase the number of iterations (max_iter) or scale the data as shown in:\n",
            "    https://scikit-learn.org/stable/modules/preprocessing.html\n",
            "Please also refer to the documentation for alternative solver options:\n",
            "    https://scikit-learn.org/stable/modules/linear_model.html#logistic-regression\n",
            "  n_iter_i = _check_optimize_result(\n"
          ]
        }
      ]
    },
    {
      "cell_type": "code",
      "source": [
        "accuracy, accuracy_sk=accuracy_calc(y_pred,y_pred_sk,Y_train)\n",
        "\n",
        "print( \"Accuracy on train set        :  \", accuracy )\n",
        ""
      ],
      "metadata": {
        "colab": {
          "base_uri": "https://localhost:8080/"
        },
        "id": "SwguMvIQ-EYj",
        "outputId": "37f1bb82-bbb4-43b1-eed0-2d64d4823d86"
      },
      "execution_count": null,
      "outputs": [
        {
          "output_type": "stream",
          "name": "stdout",
          "text": [
            "Accuracy on train set        :   97.16666666666667\n"
          ]
        }
      ]
    },
    {
      "cell_type": "code",
      "source": [
        "X_test_new=np.append(np.ones((X_test.shape[0],1)),X_test,axis=1)\n",
        "y_pred = predict(theta,X_test_new,0.5)"
      ],
      "metadata": {
        "id": "8cv3onjE-_HD"
      },
      "execution_count": null,
      "outputs": []
    },
    {
      "cell_type": "code",
      "source": [
        "accuracy, accuracy_sk=accuracy_calc(y_pred,y_pred_sk,Y_test)\n",
        "\n",
        "print( \"Accuracy on test set      :  \", accuracy )\n"
      ],
      "metadata": {
        "colab": {
          "base_uri": "https://localhost:8080/"
        },
        "id": "e_t5U-SCDqS_",
        "outputId": "ca19931f-461a-46d5-ff33-9eab84d86499"
      },
      "execution_count": null,
      "outputs": [
        {
          "output_type": "stream",
          "name": "stdout",
          "text": [
            "Accuracy on test set      :   72.0\n"
          ]
        }
      ]
    },
    {
      "cell_type": "markdown",
      "source": [
        "###Accuracy vs Learning Rate\n",
        "np.arange(0.001,0.01,0.0008) helps to create the changing learning rate via a for loop."
      ],
      "metadata": {
        "id": "Q2gVRL6_-0NL"
      }
    },
    {
      "cell_type": "code",
      "source": [
        "learn_rate=np.arange(0.001,0.01,0.0008)\n",
        "acc=np.zeros(learn_rate.shape)\n",
        "for i in range(learn_rate.size):\n",
        "    theta , J_history = gradientDescent(X,y,initial_theta,learn_rate[i],40)\n",
        "    y_pred = predict(theta,X_test_new,0.8)\n",
        "    accuracy, accuracy_sk=accuracy_calc(y_pred,y_pred_sk,Y_test)\n",
        "    acc[i]=accuracy\n",
        "    print(np.arange(0.001,0.01,0.0008).tolist())"
      ],
      "metadata": {
        "id": "5jVoj0QvDyFj",
        "colab": {
          "base_uri": "https://localhost:8080/"
        },
        "outputId": "f4c29cb5-bc06-4bed-9a4f-5cd1b6d4e1b4"
      },
      "execution_count": null,
      "outputs": [
        {
          "output_type": "stream",
          "name": "stdout",
          "text": [
            "[0.001, 0.0018, 0.0026, 0.0034, 0.0042, 0.005, 0.0058, 0.006599999999999999, 0.0073999999999999995, 0.008199999999999999, 0.009000000000000001, 0.0098]\n",
            "[0.001, 0.0018, 0.0026, 0.0034, 0.0042, 0.005, 0.0058, 0.006599999999999999, 0.0073999999999999995, 0.008199999999999999, 0.009000000000000001, 0.0098]\n",
            "[0.001, 0.0018, 0.0026, 0.0034, 0.0042, 0.005, 0.0058, 0.006599999999999999, 0.0073999999999999995, 0.008199999999999999, 0.009000000000000001, 0.0098]\n",
            "[0.001, 0.0018, 0.0026, 0.0034, 0.0042, 0.005, 0.0058, 0.006599999999999999, 0.0073999999999999995, 0.008199999999999999, 0.009000000000000001, 0.0098]\n",
            "[0.001, 0.0018, 0.0026, 0.0034, 0.0042, 0.005, 0.0058, 0.006599999999999999, 0.0073999999999999995, 0.008199999999999999, 0.009000000000000001, 0.0098]\n",
            "[0.001, 0.0018, 0.0026, 0.0034, 0.0042, 0.005, 0.0058, 0.006599999999999999, 0.0073999999999999995, 0.008199999999999999, 0.009000000000000001, 0.0098]\n",
            "[0.001, 0.0018, 0.0026, 0.0034, 0.0042, 0.005, 0.0058, 0.006599999999999999, 0.0073999999999999995, 0.008199999999999999, 0.009000000000000001, 0.0098]\n",
            "[0.001, 0.0018, 0.0026, 0.0034, 0.0042, 0.005, 0.0058, 0.006599999999999999, 0.0073999999999999995, 0.008199999999999999, 0.009000000000000001, 0.0098]\n",
            "[0.001, 0.0018, 0.0026, 0.0034, 0.0042, 0.005, 0.0058, 0.006599999999999999, 0.0073999999999999995, 0.008199999999999999, 0.009000000000000001, 0.0098]\n",
            "[0.001, 0.0018, 0.0026, 0.0034, 0.0042, 0.005, 0.0058, 0.006599999999999999, 0.0073999999999999995, 0.008199999999999999, 0.009000000000000001, 0.0098]\n",
            "[0.001, 0.0018, 0.0026, 0.0034, 0.0042, 0.005, 0.0058, 0.006599999999999999, 0.0073999999999999995, 0.008199999999999999, 0.009000000000000001, 0.0098]\n",
            "[0.001, 0.0018, 0.0026, 0.0034, 0.0042, 0.005, 0.0058, 0.006599999999999999, 0.0073999999999999995, 0.008199999999999999, 0.009000000000000001, 0.0098]\n"
          ]
        }
      ]
    },
    {
      "cell_type": "code",
      "source": [
        "plt.plot(learn_rate,acc)\n",
        "plt.xlabel(\"Learning Rate\")\n",
        "plt.ylabel(\"Accuracy (%)\")\n",
        "plt.title(\"Accuracy vs Learning Rate\")"
      ],
      "metadata": {
        "colab": {
          "base_uri": "https://localhost:8080/",
          "height": 312
        },
        "id": "LzFT3-5DIGUq",
        "outputId": "660fa2a0-c2f5-4306-ae03-0af7ae041797"
      },
      "execution_count": null,
      "outputs": [
        {
          "output_type": "execute_result",
          "data": {
            "text/plain": [
              "Text(0.5, 1.0, 'Accuracy vs Learning Rate')"
            ]
          },
          "metadata": {},
          "execution_count": 45
        },
        {
          "output_type": "display_data",
          "data": {
            "text/plain": [
              "<Figure size 432x288 with 1 Axes>"
            ],
            "image/png": "[encoded data removed]"
          },
          "metadata": {
            "needs_background": "light"
          }
        }
      ]
    },
    {
      "cell_type": "markdown",
      "source": [
        "As the learning_rate Accuracy increases also"
      ],
      "metadata": {
        "id": "cAedBTZc-7oH"
      }
    },
    {
      "cell_type": "markdown",
      "source": [
        "###Accuracy vs Training Set Size\n",
        "Similar to learning rate np.arange(100,650,50) creates ranges for train size ."
      ],
      "metadata": {
        "id": "qJohFsOl_BLQ"
      }
    },
    {
      "cell_type": "code",
      "source": [
        "train_size=np.arange(100,650,50)\n",
        "acc=np.zeros(train_size.shape)\n",
        "for i in range(train_size.size):\n",
        "    X_part=X[1:train_size[i],:]\n",
        "    #print(X_part.shape)\n",
        "    y_part=y[1:train_size[i],:]\n",
        "    #print(y_part.shape)\n",
        "    n=X_part.shape[1]\n",
        "    initial_theta = np.zeros((n,1))\n",
        "    #print(initial_theta.shape)\n",
        "    theta , J_history = gradientDescent(X_part,y_part,initial_theta,0.007,70)\n",
        "    y_pred = predict(theta,X_test_new,0.5)\n",
        "    accuracy, accuracy_sk=accuracy_calc(y_pred,y_pred_sk,Y_test)\n",
        "    acc[i]=accuracy\n",
        "    print(np.arange(100,650,50).tolist())"
      ],
      "metadata": {
        "id": "xJ8Ud9CPJlKr",
        "colab": {
          "base_uri": "https://localhost:8080/"
        },
        "outputId": "480678ab-ae41-41ac-b831-ac6f21ef42c8"
      },
      "execution_count": null,
      "outputs": [
        {
          "output_type": "stream",
          "name": "stdout",
          "text": [
            "[100, 150, 200, 250, 300, 350, 400, 450, 500, 550, 600]\n",
            "[100, 150, 200, 250, 300, 350, 400, 450, 500, 550, 600]\n",
            "[100, 150, 200, 250, 300, 350, 400, 450, 500, 550, 600]\n",
            "[100, 150, 200, 250, 300, 350, 400, 450, 500, 550, 600]\n",
            "[100, 150, 200, 250, 300, 350, 400, 450, 500, 550, 600]\n",
            "[100, 150, 200, 250, 300, 350, 400, 450, 500, 550, 600]\n",
            "[100, 150, 200, 250, 300, 350, 400, 450, 500, 550, 600]\n",
            "[100, 150, 200, 250, 300, 350, 400, 450, 500, 550, 600]\n",
            "[100, 150, 200, 250, 300, 350, 400, 450, 500, 550, 600]\n",
            "[100, 150, 200, 250, 300, 350, 400, 450, 500, 550, 600]\n",
            "[100, 150, 200, 250, 300, 350, 400, 450, 500, 550, 600]\n"
          ]
        }
      ]
    },
    {
      "cell_type": "code",
      "source": [
        "plt.plot(train_size,acc)\n",
        "plt.xlabel(\"Training Set Size\")\n",
        "plt.ylabel(\"Accuracy (%)\")\n",
        "plt.title(\"Accuracy vs Training Set Size Graph\")"
      ],
      "metadata": {
        "colab": {
          "base_uri": "https://localhost:8080/",
          "height": 312
        },
        "id": "2gbSfHUeNisI",
        "outputId": "4bf29204-c71b-41f2-ee62-d5391cdaed91"
      },
      "execution_count": null,
      "outputs": [
        {
          "output_type": "execute_result",
          "data": {
            "text/plain": [
              "Text(0.5, 1.0, 'Accuracy vs Training Set Size Graph')"
            ]
          },
          "metadata": {},
          "execution_count": 57
        },
        {
          "output_type": "display_data",
          "data": {
            "text/plain": [
              "<Figure size 432x288 with 1 Axes>"
            ],
            "image/png": "[encoded data removed]"
          },
          "metadata": {
            "needs_background": "light"
          }
        }
      ]
    },
    {
      "cell_type": "markdown",
      "source": [
        "For a training set size of 100, accuracy was highest."
      ],
      "metadata": {
        "id": "eTrCBTtr_IpN"
      }
    }
  ],
  "metadata": {
    "kernelspec": {
      "display_name": "Python 3",
      "language": "python",
      "name": "python3"
    },
    "language_info": {
      "codemirror_mode": {
        "name": "ipython",
        "version": 3
      },
      "file_extension": ".py",
      "mimetype": "text/x-python",
      "name": "python",
      "nbconvert_exporter": "python",
      "pygments_lexer": "ipython3",
      "version": "3.6.5"
    },
    "colab": {
      "provenance": []
    },
    "accelerator": "GPU",
    "gpuClass": "standard"
  },
  "nbformat": 4,
  "nbformat_minor": 0
}